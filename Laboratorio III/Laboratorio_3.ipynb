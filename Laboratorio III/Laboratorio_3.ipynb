{
 "cells": [
  {
   "cell_type": "markdown",
   "metadata": {},
   "source": [
    "# Laboratorio 3"
   ]
  },
  {
   "cell_type": "code",
   "execution_count": 50,
   "metadata": {},
   "outputs": [],
   "source": [
    "import sqlite3\n",
    "import pandas as pd\n",
    "conn = sqlite3.connect('sql-murder-mystery.db')\n",
    "cursorObj = conn.cursor()\n"
   ]
  },
  {
   "cell_type": "markdown",
   "metadata": {},
   "source": [
    "## Contexto \n",
    "Se ha cometido un delito y la policía necesita su ayuda. Un detective te dio el informe de la escena del crimen, pero de alguna manera lo perdiste. Recuerdas vagamente que el crimen fue un asesinato que ocurrió en algún momento del 15 de enero de 2018 y que tuvo lugar en SQL City. Empiece por recuperar el informe de la escena del crimen correspondiente de la base de datos del departamento de policía."
   ]
  },
  {
   "cell_type": "code",
   "execution_count": 51,
   "metadata": {},
   "outputs": [
    {
     "data": {
      "text/html": [
       "<div>\n",
       "<style scoped>\n",
       "    .dataframe tbody tr th:only-of-type {\n",
       "        vertical-align: middle;\n",
       "    }\n",
       "\n",
       "    .dataframe tbody tr th {\n",
       "        vertical-align: top;\n",
       "    }\n",
       "\n",
       "    .dataframe thead th {\n",
       "        text-align: right;\n",
       "    }\n",
       "</style>\n",
       "<table border=\"1\" class=\"dataframe\">\n",
       "  <thead>\n",
       "    <tr style=\"text-align: right;\">\n",
       "      <th></th>\n",
       "      <th>type</th>\n",
       "      <th>name</th>\n",
       "      <th>tbl_name</th>\n",
       "      <th>rootpage</th>\n",
       "      <th>sql</th>\n",
       "    </tr>\n",
       "  </thead>\n",
       "  <tbody>\n",
       "    <tr>\n",
       "      <th>0</th>\n",
       "      <td>table</td>\n",
       "      <td>crime_scene_report</td>\n",
       "      <td>crime_scene_report</td>\n",
       "      <td>2</td>\n",
       "      <td>CREATE TABLE crime_scene_report (\\n        dat...</td>\n",
       "    </tr>\n",
       "    <tr>\n",
       "      <th>1</th>\n",
       "      <td>table</td>\n",
       "      <td>drivers_license</td>\n",
       "      <td>drivers_license</td>\n",
       "      <td>3</td>\n",
       "      <td>CREATE TABLE drivers_license (\\n        id int...</td>\n",
       "    </tr>\n",
       "    <tr>\n",
       "      <th>2</th>\n",
       "      <td>table</td>\n",
       "      <td>person</td>\n",
       "      <td>person</td>\n",
       "      <td>4</td>\n",
       "      <td>CREATE TABLE person (\\n        id integer PRIM...</td>\n",
       "    </tr>\n",
       "    <tr>\n",
       "      <th>3</th>\n",
       "      <td>table</td>\n",
       "      <td>facebook_event_checkin</td>\n",
       "      <td>facebook_event_checkin</td>\n",
       "      <td>5</td>\n",
       "      <td>CREATE TABLE facebook_event_checkin (\\n       ...</td>\n",
       "    </tr>\n",
       "    <tr>\n",
       "      <th>4</th>\n",
       "      <td>table</td>\n",
       "      <td>interview</td>\n",
       "      <td>interview</td>\n",
       "      <td>6</td>\n",
       "      <td>CREATE TABLE interview (\\n        person_id in...</td>\n",
       "    </tr>\n",
       "  </tbody>\n",
       "</table>\n",
       "</div>"
      ],
      "text/plain": [
       "    type                    name                tbl_name  rootpage  \\\n",
       "0  table      crime_scene_report      crime_scene_report         2   \n",
       "1  table         drivers_license         drivers_license         3   \n",
       "2  table                  person                  person         4   \n",
       "3  table  facebook_event_checkin  facebook_event_checkin         5   \n",
       "4  table               interview               interview         6   \n",
       "\n",
       "                                                 sql  \n",
       "0  CREATE TABLE crime_scene_report (\\n        dat...  \n",
       "1  CREATE TABLE drivers_license (\\n        id int...  \n",
       "2  CREATE TABLE person (\\n        id integer PRIM...  \n",
       "3  CREATE TABLE facebook_event_checkin (\\n       ...  \n",
       "4  CREATE TABLE interview (\\n        person_id in...  "
      ]
     },
     "execution_count": 51,
     "metadata": {},
     "output_type": "execute_result"
    }
   ],
   "source": [
    "tables = pd.read_sql(\"SELECT * FROM sqlite_master\", conn)\n",
    "tables.head()"
   ]
  },
  {
   "cell_type": "code",
   "execution_count": 52,
   "metadata": {},
   "outputs": [
    {
     "data": {
      "text/html": [
       "<div>\n",
       "<style scoped>\n",
       "    .dataframe tbody tr th:only-of-type {\n",
       "        vertical-align: middle;\n",
       "    }\n",
       "\n",
       "    .dataframe tbody tr th {\n",
       "        vertical-align: top;\n",
       "    }\n",
       "\n",
       "    .dataframe thead th {\n",
       "        text-align: right;\n",
       "    }\n",
       "</style>\n",
       "<table border=\"1\" class=\"dataframe\">\n",
       "  <thead>\n",
       "    <tr style=\"text-align: right;\">\n",
       "      <th></th>\n",
       "      <th>date</th>\n",
       "      <th>type</th>\n",
       "      <th>description</th>\n",
       "      <th>city</th>\n",
       "    </tr>\n",
       "  </thead>\n",
       "  <tbody>\n",
       "    <tr>\n",
       "      <th>0</th>\n",
       "      <td>20180115</td>\n",
       "      <td>robbery</td>\n",
       "      <td>A Man Dressed as Spider-Man Is on a Robbery Spree</td>\n",
       "      <td>NYC</td>\n",
       "    </tr>\n",
       "    <tr>\n",
       "      <th>1</th>\n",
       "      <td>20180115</td>\n",
       "      <td>murder</td>\n",
       "      <td>Life? Dont talk to me about life.</td>\n",
       "      <td>Albany</td>\n",
       "    </tr>\n",
       "    <tr>\n",
       "      <th>2</th>\n",
       "      <td>20180115</td>\n",
       "      <td>murder</td>\n",
       "      <td>Mama, I killed a man, put a gun against his he...</td>\n",
       "      <td>Reno</td>\n",
       "    </tr>\n",
       "    <tr>\n",
       "      <th>3</th>\n",
       "      <td>20180215</td>\n",
       "      <td>murder</td>\n",
       "      <td>REDACTED REDACTED REDACTED</td>\n",
       "      <td>SQL City</td>\n",
       "    </tr>\n",
       "    <tr>\n",
       "      <th>4</th>\n",
       "      <td>20180215</td>\n",
       "      <td>murder</td>\n",
       "      <td>Someone killed the guard! He took an arrow to ...</td>\n",
       "      <td>SQL City</td>\n",
       "    </tr>\n",
       "  </tbody>\n",
       "</table>\n",
       "</div>"
      ],
      "text/plain": [
       "       date     type                                        description  \\\n",
       "0  20180115  robbery  A Man Dressed as Spider-Man Is on a Robbery Spree   \n",
       "1  20180115   murder                  Life? Dont talk to me about life.   \n",
       "2  20180115   murder  Mama, I killed a man, put a gun against his he...   \n",
       "3  20180215   murder                         REDACTED REDACTED REDACTED   \n",
       "4  20180215   murder  Someone killed the guard! He took an arrow to ...   \n",
       "\n",
       "       city  \n",
       "0       NYC  \n",
       "1    Albany  \n",
       "2      Reno  \n",
       "3  SQL City  \n",
       "4  SQL City  "
      ]
     },
     "execution_count": 52,
     "metadata": {},
     "output_type": "execute_result"
    }
   ],
   "source": [
    "crime_table = pd.read_sql(\"SELECT * FROM crime_scene_report;\", conn)\n",
    "crime_table.head()"
   ]
  },
  {
   "cell_type": "code",
   "execution_count": 53,
   "metadata": {},
   "outputs": [
    {
     "name": "stdout",
     "output_type": "stream",
     "text": [
      "                                         description\n",
      "0  Security footage shows that there were 2 witne...\n"
     ]
    }
   ],
   "source": [
    "crime_scene = pd.read_sql(\"\"\"SELECT description \n",
    "FROM \n",
    "crime_scene_report \n",
    "WHERE date = 20180115 AND\n",
    "city = 'SQL City' and type = 'murder'\"\"\", conn )\n",
    "print(crime_scene)"
   ]
  },
  {
   "cell_type": "markdown",
   "metadata": {},
   "source": [
    "# Testigos"
   ]
  },
  {
   "cell_type": "code",
   "execution_count": 54,
   "metadata": {},
   "outputs": [
    {
     "name": "stdout",
     "output_type": "stream",
     "text": [
      "      id            name\n",
      "0  14887  Morty Schapiro\n"
     ]
    }
   ],
   "source": [
    "testigo_1 = pd.read_sql(\"\"\"select id, name \n",
    "from person \n",
    "where address_street_name = 'Northwestern Dr' \n",
    "order by address_number DESC limit 1\"\"\", conn)\n",
    "print(testigo_1)"
   ]
  },
  {
   "cell_type": "code",
   "execution_count": 55,
   "metadata": {},
   "outputs": [
    {
     "name": "stdout",
     "output_type": "stream",
     "text": [
      "      id            name\n",
      "0  16371  Annabel Miller\n"
     ]
    }
   ],
   "source": [
    "testigo_2 = pd.read_sql(\"select id, name from person where address_street_name = 'Franklin Ave' and name like 'Annabel%'\", conn)\n",
    "print(testigo_2)"
   ]
  },
  {
   "cell_type": "code",
   "execution_count": 56,
   "metadata": {},
   "outputs": [
    {
     "name": "stdout",
     "output_type": "stream",
     "text": [
      "   person_id                                         transcript\n",
      "0      14887  I heard a gunshot and then saw a man run out. ...\n",
      "1      16371  I saw the murder happen, and I recognized the ...\n"
     ]
    }
   ],
   "source": [
    "transcript = pd.read_sql(\"SELECT * FROM interview WHERE person_id=16371 OR person_id=14887\", conn)\n",
    "print(transcript)"
   ]
  },
  {
   "cell_type": "markdown",
   "metadata": {},
   "source": [
    "# Culpable "
   ]
  },
  {
   "cell_type": "code",
   "execution_count": 57,
   "metadata": {},
   "outputs": [
    {
     "name": "stdout",
     "output_type": "stream",
     "text": [
      "            name\n",
      "0  Jeremy Bowers\n"
     ]
    }
   ],
   "source": [
    "pista_1 = pd.read_sql(\"select person.name from get_fit_now_member join person on get_fit_now_member.person_id = person.id join drivers_license on person.license_id = drivers_license.id where membership_status = 'gold' and get_fit_now_member.id like '48Z%' and plate_number like '%H42W%'\", conn)\n",
    "print(pista_1)"
   ]
  },
  {
   "cell_type": "code",
   "execution_count": 58,
   "metadata": {},
   "outputs": [
    {
     "name": "stdout",
     "output_type": "stream",
     "text": [
      "                                          transcript\n",
      "0  I was hired by a woman with a lot of money. I ...\n"
     ]
    }
   ],
   "source": [
    "entrevista = pd.read_sql(\"select transcript from interview join person on person.id = interview.person_id where name = 'Jeremy Bowers'\", conn)\n",
    "print(entrevista)"
   ]
  },
  {
   "cell_type": "markdown",
   "metadata": {},
   "source": [
    "# Mente maestra"
   ]
  },
  {
   "cell_type": "code",
   "execution_count": 59,
   "metadata": {},
   "outputs": [
    {
     "name": "stdout",
     "output_type": "stream",
     "text": [
      "               name\n",
      "0  Miranda Priestly\n"
     ]
    }
   ],
   "source": [
    "asesino_2 = pd.read_sql(\"select name from person join facebook_event_checkin on person.id = facebook_event_checkin.person_id join drivers_license on person.license_id = drivers_license.id where event_name = 'SQL Symphony Concert' and date like '201712%' and car_make = 'Tesla'and car_model = 'Model S' and height between 65 and 67 and hair_color = 'red' and gender='female'group by person.id having count(*) == 3 \", conn)\n",
    "print(asesino_2)"
   ]
  },
  {
   "cell_type": "code",
   "execution_count": 60,
   "metadata": {},
   "outputs": [
    {
     "data": {
      "text/plain": [
       "\"Congrats, you found the murderer! But wait, there's more... If you think you're up for a challenge, try querying the interview transcript of the murderer to find the real villian behind this crime. If you feel especially confident in your SQL skills, try to complete this final step with no more than 2 queries. Use this same INSERT statement with your new suspect to check your answer.\""
      ]
     },
     "execution_count": 60,
     "metadata": {},
     "output_type": "execute_result"
    }
   ],
   "source": [
    "cursor = conn.cursor()\n",
    "sql = \"INSERT INTO solution VALUES (1, 'Jeremy Bowers')\" \n",
    "cursor.execute(sql)\n",
    "conn.commit()\n",
    "var = pd.read_sql(\"SELECT value FROM solution\", conn)\n",
    "var.iloc[0,0]"
   ]
  },
  {
   "cell_type": "code",
   "execution_count": 61,
   "metadata": {},
   "outputs": [
    {
     "data": {
      "text/plain": [
       "'Congrats, you found the brains behind the murder! Everyone in SQL City hails you as the greatest SQL detective of all time. Time to break out the champagne!'"
      ]
     },
     "execution_count": 61,
     "metadata": {},
     "output_type": "execute_result"
    }
   ],
   "source": [
    "cursor = conn.cursor()\n",
    "sql = \"INSERT INTO solution VALUES (1, 'Miranda Priestly')\" \n",
    "cursor.execute(sql)\n",
    "conn.commit()\n",
    "var = pd.read_sql(\"SELECT value FROM solution\", conn)\n",
    "var.iloc[0,0]"
   ]
  }
 ],
 "metadata": {
  "kernelspec": {
   "display_name": "Python 3",
   "language": "python",
   "name": "python3"
  },
  "language_info": {
   "codemirror_mode": {
    "name": "ipython",
    "version": 3
   },
   "file_extension": ".py",
   "mimetype": "text/x-python",
   "name": "python",
   "nbconvert_exporter": "python",
   "pygments_lexer": "ipython3",
   "version": "3.8.3"
  }
 },
 "nbformat": 4,
 "nbformat_minor": 4
}
