{
 "cells": [
  {
   "cell_type": "code",
   "execution_count": 8,
   "metadata": {},
   "outputs": [],
   "source": [
    "import re\n"
   ]
  },
  {
   "cell_type": "markdown",
   "metadata": {},
   "source": [
    "# Inciso 1"
   ]
  },
  {
   "cell_type": "code",
   "execution_count": null,
   "metadata": {},
   "outputs": [],
   "source": [
    "Genere una expresión regular que sea capaz de detectar las placas de un\n",
    "vehículo particular guatemalteco."
   ]
  },
  {
   "cell_type": "code",
   "execution_count": 21,
   "metadata": {},
   "outputs": [
    {
     "name": "stdout",
     "output_type": "stream",
     "text": [
      "['P427GKG', 'P323JHG', 'P001JHK']\n"
     ]
    }
   ],
   "source": [
    "placas=['P427GKG', 'P323JHG', 'S456TFFG', 'TT442237', 'P001JHK']\n",
    "\n",
    "r = re.compile('^P[0-9][0-9][0-9][B-DF-HJ-NP-TV-Z][B-DF-HJ-NP-TV-Z][B-DF-HJ-NP-TV-Z]')\n",
    "placasCorrectas = list(filter(r.match, placas))\n",
    "\n",
    "print(placasCorrectas)"
   ]
  },
  {
   "cell_type": "markdown",
   "metadata": {},
   "source": [
    "# Inciso 2 "
   ]
  },
  {
   "cell_type": "code",
   "execution_count": null,
   "metadata": {},
   "outputs": [],
   "source": [
    "Genere una expresión regular que valide si un archivo es de tipo .pdf o jpg.\n",
    "a. Ejemplo1.pdf, prueba2.PDF, respuestas_del_examen.jpg, amor.JPG"
   ]
  },
  {
   "cell_type": "code",
   "execution_count": 71,
   "metadata": {},
   "outputs": [
    {
     "name": "stdout",
     "output_type": "stream",
     "text": [
      "['ejemplo1.pdf', 'prueba2.PDF', 'respuestas_del_examen.jpg', 'amor.JPG']\n"
     ]
    }
   ],
   "source": [
    "files=['ejemplo1.pdf', 'prueba2.PDF', 'respuestas_del_examen.jpg', 'amor.JPG', 'pedapdf']\n",
    "\n",
    "r = re.compile('^.+\\.(([pP][dD][fF])|([jJ][pP][gG]))$')\n",
    "filesCorrectos = list(filter(r.match, files))\n",
    "\n",
    "print(filesCorrectos)"
   ]
  },
  {
   "cell_type": "markdown",
   "metadata": {},
   "source": [
    "# Inciso 3"
   ]
  },
  {
   "cell_type": "code",
   "execution_count": null,
   "metadata": {},
   "outputs": [],
   "source": [
    "Genere una expresión regular para validar contraseñas de correo. Una contraseña de correo debe contener por lo menos 8 caracteres, una letra mayúscula y un carácter especial."
   ]
  },
  {
   "cell_type": "code",
   "execution_count": 22,
   "metadata": {},
   "outputs": [
    {
     "name": "stdout",
     "output_type": "stream",
     "text": [
      "['aaaa_aAe', 'sopitaA@', 'tulindaA$0', '12sopita@lOAk']\n"
     ]
    }
   ],
   "source": [
    "passwrd=['aaaa_aAe', 'sopitaA@', '&asasasas49', 'tulindaA$0', '12sopita@lOAk', 'HOLA12']\n",
    "\n",
    "r = re.compile(r\"^(?=.*[\\@\\#\\$\\%\\&\\*\\+\\-\\_\\!\\.])(?=.*[A-Z])[A-Za-z\\d\\@\\#\\$\\%\\&\\*\\+\\-\\_\\!\\.]{8,}\")\n",
    "passwrdCorrectas = list(filter(r.match, passwrd))\n",
    "\n",
    "print(passwrdCorrectas)\n"
   ]
  },
  {
   "cell_type": "markdown",
   "metadata": {},
   "source": [
    "# Inciso 4 "
   ]
  },
  {
   "cell_type": "code",
   "execution_count": null,
   "metadata": {},
   "outputs": [],
   "source": [
    "Cree una expresión regular para validar un numero de carnet de la Universidad\n",
    "Galileo, por ejemplo 19002324 donde los primeros dos dígitos representan el\n",
    "año en el que el alumno se inscribió los cuales pueden variar desde el 01 (año\n",
    "2001) hasta el 30 (año 2030). Los siguientes dos dígitos son cero (00) los cuales \n",
    "van por default y los últimos cuatro dígitos son un número que va desde el 1110\n",
    "hasta el 8970. Para dar su respuesta utilice la notación de expresiones\n",
    "regulares."
   ]
  },
  {
   "cell_type": "code",
   "execution_count": 24,
   "metadata": {},
   "outputs": [
    {
     "name": "stdout",
     "output_type": "stream",
     "text": [
      "['19002324', '09001110', '15006588']\n"
     ]
    }
   ],
   "source": [
    "carnet=['19002324', '09001110', '30001223', '22021111', '15006588', '00001234']\n",
    "\n",
    "r = re.compile('((0[1-9])|([1-2][0-9]|30))00(111[0-9]|11[2-9][0-9]|89[0-7]0|[2-8][0-8][0-9][0-9])$')\n",
    "carnetCorrecto = list(filter(r.match, carnet))\n",
    "\n",
    "print(carnetCorrecto)"
   ]
  },
  {
   "cell_type": "markdown",
   "metadata": {},
   "source": [
    "# Inciso 5 "
   ]
  },
  {
   "cell_type": "code",
   "execution_count": null,
   "metadata": {},
   "outputs": [],
   "source": [
    "Cree una expresión regular que encuentre todas las palabras de la primera\n",
    "línea, pero ninguna de la segunda.\n",
    "a. pit, spot, spate, slap two, respite\n",
    "b. pt,Pot,peat,part"
   ]
  },
  {
   "cell_type": "code",
   "execution_count": 25,
   "metadata": {},
   "outputs": [
    {
     "name": "stdout",
     "output_type": "stream",
     "text": [
      "['pit', 'spot', 'spate', 'slap two', 'respite']\n"
     ]
    }
   ],
   "source": [
    "specialWords=['pit', 'spot', 'spate', 'slap two', 'respite', 'pt', 'Pot', 'peat', 'part']\n",
    "\n",
    "r = re.compile('.*p.t.*')\n",
    "specialWordsCorrect = list(filter(r.match, specialWords))\n",
    "\n",
    "print(specialWordsCorrect)"
   ]
  },
  {
   "cell_type": "markdown",
   "metadata": {},
   "source": [
    "# Inciso 6"
   ]
  },
  {
   "cell_type": "code",
   "execution_count": null,
   "metadata": {},
   "outputs": [],
   "source": [
    "Cree una expresión regular para obtener los números telefónicos de Guatemala. Estos pueden contener al inicio +502 o 502, pueden estar separados por un espacio en blanco o un guión o juntos. Notar que los números telefónicos pueden empezar únicamente con 4,5,6 o 2.\n",
    "a. +50254821151,4210-7640,52018150,24346854,11234569, 50211234578"
   ]
  },
  {
   "cell_type": "code",
   "execution_count": 27,
   "metadata": {},
   "outputs": [
    {
     "name": "stdout",
     "output_type": "stream",
     "text": [
      "['+50254821151', '4210-7640', '52018150', '2434 6854']\n"
     ]
    }
   ],
   "source": [
    "numbers = ['+50254821151', '4210-7640', '52018150', '2434 6854', '11234569', '50211234578']\n",
    "r = re.compile(r\"^(\\+?502)?(\\-)?( )?[6542]([0-9]( |\\-)?){7}$\")\n",
    "numberCorrectas = list(filter(r.match, numbers))\n",
    "\n",
    "print(numberCorrectas)"
   ]
  },
  {
   "cell_type": "markdown",
   "metadata": {},
   "source": [
    "# Inciso 7 "
   ]
  },
  {
   "cell_type": "code",
   "execution_count": null,
   "metadata": {},
   "outputs": [],
   "source": [
    "Genere una expresión regular que sea capaz de obtener correos de la UFM."
   ]
  },
  {
   "cell_type": "code",
   "execution_count": 67,
   "metadata": {},
   "outputs": [
    {
     "name": "stdout",
     "output_type": "stream",
     "text": [
      "['sophiagamarro@ufm.edu', 'juanpedro@ufm.edu']\n"
     ]
    }
   ],
   "source": [
    "correos = ['sophiagamarro@ufm.edu', 'juanpedro@ufm.edu', 'lesliegamarro@gmail.com', 'lesliegamarro@gmail.edu']\n",
    "r = re.compile('[\\w]+[\\w|.|-][\\w]+[\\w|.|-]\\w+@ufm.edu')\n",
    "correoCorrecto= list(filter(r.match, correos))\n",
    "\n",
    "print(correoCorrecto)"
   ]
  },
  {
   "cell_type": "markdown",
   "metadata": {},
   "source": [
    "# Inciso 8 "
   ]
  },
  {
   "cell_type": "code",
   "execution_count": null,
   "metadata": {},
   "outputs": [],
   "source": [
    "En el mundo distópico de Eurasia, Big Brother le asigna un identificador único a\n",
    "cada ciudadano. Genere una expresión regular que valide las identificaciones.\n",
    "Composición del id:\n",
    "a. El id inicia con 0 a 3 letras minúsculas (puede tener 0 letras minúsculas\n",
    "hasta tres letras minúsculas)\n",
    "b. Luego es seguido por una cadena de dígitos que puede ser de 2 a 9\n",
    "dígitos respectivamente.\n",
    "c. Inmediatamente después de la cadena de dígitos, se encuentra por lo\n",
    "menos tres letras mayúsculas.\n",
    "d. Ej: abc012333ABCDEEEE"
   ]
  },
  {
   "cell_type": "code",
   "execution_count": 26,
   "metadata": {},
   "outputs": [
    {
     "name": "stdout",
     "output_type": "stream",
     "text": [
      "['abc012333ABCDEEEE', 'edf37FFFFF', '012ABCDEEEE', 'ppp123456789BBB', '123456789JJJ']\n"
     ]
    }
   ],
   "source": [
    "idBigBrother = ['abc012333ABCDEEEE', 'edf37FFFFF', 'Pass57PPPP', '012ABCDEEEE', 'qwe11111111111111pos', 'ppp123456789BBB', '123456789JJJ']\n",
    "r = re.compile('^([a-z][a-z][a-z]|[a-z][a-z]|[a-z])?(\\\\d{2}|\\\\d{3}|\\\\d{4}|\\\\d{5}|\\\\d{6}|\\\\d{7}|\\\\d{8}|\\\\d{9})([A-Z]{3,})$')\n",
    "idBigBrotherCorrecto= list(filter(r.match, idBigBrother))\n",
    "\n",
    "print(idBigBrotherCorrecto)"
   ]
  },
  {
   "cell_type": "code",
   "execution_count": null,
   "metadata": {},
   "outputs": [],
   "source": []
  },
  {
   "cell_type": "code",
   "execution_count": null,
   "metadata": {},
   "outputs": [],
   "source": []
  }
 ],
 "metadata": {
  "kernelspec": {
   "display_name": "Python 3",
   "language": "python",
   "name": "python3"
  },
  "language_info": {
   "codemirror_mode": {
    "name": "ipython",
    "version": 3
   },
   "file_extension": ".py",
   "mimetype": "text/x-python",
   "name": "python",
   "nbconvert_exporter": "python",
   "pygments_lexer": "ipython3",
   "version": "3.8.3"
  }
 },
 "nbformat": 4,
 "nbformat_minor": 4
}
