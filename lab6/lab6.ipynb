{
 "cells": [
  {
   "cell_type": "code",
   "execution_count": 2,
   "metadata": {},
   "outputs": [],
   "source": [
    "import re\n"
   ]
  },
  {
   "cell_type": "code",
   "execution_count": 8,
   "metadata": {},
   "outputs": [
    {
     "name": "stdout",
     "output_type": "stream",
     "text": [
      "['P427GKG', 'P323JHG']\n"
     ]
    }
   ],
   "source": [
    "placas=['P427GKG', 'P323JHG', 'S456TFFG', 'TT442237']\n",
    "\n",
    "r = re.compile('^P[0-9][0-9][0-9][B-DF-HJ-NP-TV-Z][B-DF-HJ-NP-TV-Z][B-DF-HJ-NP-TV-Z]')\n",
    "placasCorrectas = list(filter(r.match, placas))\n",
    "\n",
    "print(placasCorrectas)"
   ]
  },
  {
   "cell_type": "code",
   "execution_count": 73,
   "metadata": {},
   "outputs": [
    {
     "name": "stdout",
     "output_type": "stream",
     "text": [
      "[]\n"
     ]
    }
   ],
   "source": []
  },
  {
   "cell_type": "code",
   "execution_count": 71,
   "metadata": {},
   "outputs": [
    {
     "name": "stdout",
     "output_type": "stream",
     "text": [
      "['ejemplo1.pdf', 'prueba2.PDF', 'respuestas_del_examen.jpg', 'amor.JPG']\n"
     ]
    }
   ],
   "source": [
    "files=['ejemplo1.pdf', 'prueba2.PDF', 'respuestas_del_examen.jpg', 'amor.JPG', 'pedapdf']\n",
    "\n",
    "r = re.compile('^.+\\.(([pP][dD][fF])|([jJ][pP][gG]))$')\n",
    "filesCorrectos = list(filter(r.match, files))\n",
    "\n",
    "print(filesCorrectos)"
   ]
  },
  {
   "cell_type": "code",
   "execution_count": 63,
   "metadata": {},
   "outputs": [
    {
     "name": "stdout",
     "output_type": "stream",
     "text": [
      "['19002324', '09001110', '30001223', '15006588']\n"
     ]
    }
   ],
   "source": [
    "carnet=['19002324', '09001110', '30001223', '22021111', '15006588']\n",
    "\n",
    "r = re.compile('^([0-2][0-9]|30)(00)(11[1-8][0-9]|119[0-9]|1[2-9][0-9]{2}|[2-7][0-9]{3}|8[0-8][0-9]{2}|89[0-6][0-9]|8970)$')\n",
    "carnetCorrecto = list(filter(r.match, carnet))\n",
    "\n",
    "print(carnetCorrecto)"
   ]
  },
  {
   "cell_type": "code",
   "execution_count": 25,
   "metadata": {},
   "outputs": [
    {
     "name": "stdout",
     "output_type": "stream",
     "text": [
      "['pit', 'spot', 'spate', 'slap two', 'respite']\n"
     ]
    }
   ],
   "source": [
    "specialWords=['pit', 'spot', 'spate', 'slap two', 'respite', 'pt', 'Pot', 'peat', 'part']\n",
    "\n",
    "r = re.compile('.*p.t.*')\n",
    "specialWordsCorrect = list(filter(r.match, specialWords))\n",
    "\n",
    "print(specialWordsCorrect)"
   ]
  },
  {
   "cell_type": "code",
   "execution_count": null,
   "metadata": {},
   "outputs": [],
   "source": []
  },
  {
   "cell_type": "code",
   "execution_count": 67,
   "metadata": {},
   "outputs": [
    {
     "name": "stdout",
     "output_type": "stream",
     "text": [
      "['sophiagamarro@ufm.edu', 'juanpedro@ufm.edu']\n"
     ]
    }
   ],
   "source": [
    "correos = ['sophiagamarro@ufm.edu', 'juanpedro@ufm.edu', 'lesliegamarro@gmail.com', 'lesliegamarro@gmail.edu']\n",
    "r = re.compile('[\\w]+[\\w|.|-][\\w]+[\\w|.|-]\\w+@ufm.edu')\n",
    "correoCorrecto= list(filter(r.match, correos))\n",
    "\n",
    "print(correoCorrecto)"
   ]
  },
  {
   "cell_type": "code",
   "execution_count": 68,
   "metadata": {},
   "outputs": [
    {
     "name": "stdout",
     "output_type": "stream",
     "text": [
      "['abc012333ABCDEEEE', 'edf37FFFFF', '012ABCDEEEE', 'ppp123456789BBB', '123456789JJJ']\n"
     ]
    }
   ],
   "source": [
    "idBigBrother = ['abc012333ABCDEEEE', 'edf37FFFFF', 'Pass57PPPP', '012ABCDEEEE', 'qwe11111111111111pos', 'ppp123456789BBB', '123456789JJJ']\n",
    "r = re.compile('^([a-z][a-z][a-z]|[a-z][a-z]|[a-z])?(\\\\d{2}|\\\\d{3}|\\\\d{4}|\\\\d{5}|\\\\d{6}|\\\\d{7}|\\\\d{8}|\\\\d{9})([A-Z]{3,})$')\n",
    "idBigBrotherCorrecto= list(filter(r.match, idBigBrother))\n",
    "\n",
    "print(idBigBrotherCorrecto)"
   ]
  },
  {
   "cell_type": "code",
   "execution_count": null,
   "metadata": {},
   "outputs": [],
   "source": []
  },
  {
   "cell_type": "code",
   "execution_count": null,
   "metadata": {},
   "outputs": [],
   "source": []
  }
 ],
 "metadata": {
  "kernelspec": {
   "display_name": "Python 3",
   "language": "python",
   "name": "python3"
  },
  "language_info": {
   "codemirror_mode": {
    "name": "ipython",
    "version": 3
   },
   "file_extension": ".py",
   "mimetype": "text/x-python",
   "name": "python",
   "nbconvert_exporter": "python",
   "pygments_lexer": "ipython3",
   "version": "3.8.3"
  }
 },
 "nbformat": 4,
 "nbformat_minor": 4
}
